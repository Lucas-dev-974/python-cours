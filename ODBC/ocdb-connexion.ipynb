{
 "cells": [
  {
   "cell_type": "code",
   "execution_count": 58,
   "metadata": {},
   "outputs": [
    {
     "ename": "SyntaxError",
     "evalue": "invalid syntax. Perhaps you forgot a comma? (2199594205.py, line 14)",
     "output_type": "error",
     "traceback": [
      "\u001b[1;36m  Cell \u001b[1;32mIn [58], line 14\u001b[1;36m\u001b[0m\n\u001b[1;33m    print(...cursor.tables())\u001b[0m\n\u001b[1;37m          ^\u001b[0m\n\u001b[1;31mSyntaxError\u001b[0m\u001b[1;31m:\u001b[0m invalid syntax. Perhaps you forgot a comma?\n"
     ]
    }
   ],
   "source": [
    "import pyodbc;  \n",
    "\n",
    "\n",
    "cnxn = pyodbc.connect(\n",
    "    'DRIVER=MySQL ODBC 8.0 ANSI Driver;'\n",
    "    'SERVER=localhost;'\n",
    "    'DATABASE=test;'\n",
    "    'UID=root;'\n",
    "    'PWD=;'\n",
    "    'charset=utf8mb4;'\n",
    ")\n",
    "\n",
    "cursor = cnxn.cursor()\n",
    "\n",
    "def getResult(query):\n",
    "    cursor.execute(query) \n",
    "    row    = cursor.fetchall()\n",
    "    print(row)\n",
    "\n",
    "def CreateDatabase(dbname):\n",
    "    cursor.execute('create database if not exists ' + dbname)\n",
    "\n",
    "def CreateTable(dbname, tbname, params):\n",
    "    cursor.execute('use ' + dbname)\n",
    "    cursor.execute('create table if not exists ' + tbname + '(' + params + ')')\n",
    "\n",
    "def InsertIn(dbname, tbname, whatInsert, paramsInsert):\n",
    "    cursor.execute('use ' + dbname)\n",
    "    query = 'insert into ' + tbname + ' (' + whatInsert + ') values (' + paramsInsert + ')' \n",
    "    print(query)\n",
    "    cursor.execute(query)\n",
    "    cursor.commit()\n",
    "\n",
    "def getTableInputs(dbname, tbname):\n",
    "    cursor.execute('use ' + dbname)\n",
    "    cursor.execute('select * from ' + tbname)\n",
    "    rows = cursor.fetchall()\n",
    "    print(rows)\n",
    "\n",
    "# getResult('show databases')\n",
    "\n",
    "CreateDatabase('test')\n",
    "CreateTable('test', 't1', 'id int auto_increment primary key, name varchar(255)')\n",
    "InsertIn('test', 't1', 'name', \"'lcs'\")\n",
    "getTableInputs('test', 't1')"
   ]
  }
 ],
 "metadata": {
  "kernelspec": {
   "display_name": "Python 3.10.8 64-bit",
   "language": "python",
   "name": "python3"
  },
  "language_info": {
   "codemirror_mode": {
    "name": "ipython",
    "version": 3
   },
   "file_extension": ".py",
   "mimetype": "text/x-python",
   "name": "python",
   "nbconvert_exporter": "python",
   "pygments_lexer": "ipython3",
   "version": "3.10.8"
  },
  "orig_nbformat": 4,
  "vscode": {
   "interpreter": {
    "hash": "37083a178839ddb6837eca99e3841ef7be6dad5dc50c6d19829e2187d61ddd5d"
   }
  }
 },
 "nbformat": 4,
 "nbformat_minor": 2
}
